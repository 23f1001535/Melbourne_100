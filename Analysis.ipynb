{
  "nbformat": 4,
  "nbformat_minor": 0,
  "metadata": {
    "colab": {
      "provenance": []
    },
    "kernelspec": {
      "name": "python3",
      "display_name": "Python 3"
    },
    "language_info": {
      "name": "python"
    }
  },
  "cells": [
    {
      "cell_type": "code",
      "execution_count": null,
      "metadata": {
        "id": "Kny2ecazTuuB"
      },
      "outputs": [],
      "source": [
        "# Import necessary libraries\n",
        "import pandas as pd\n",
        "import numpy as np\n",
        "from scipy.stats import linregress\n",
        "\n",
        "# Load your CSV files (replace 'path_to_users.csv' and 'path_to_repositories.csv' with actual file paths)\n",
        "users = pd.read_csv('users.csv')\n",
        "repos = pd.read_csv('repository.csv')\n",
        "\n",
        "# Display the first few rows to understand the structure\n",
        "print(users.head())\n",
        "print(repos.head())\n"
      ]
    },
    {
      "cell_type": "code",
      "source": [
        "melbourne_users = users[users['location'].str.contains('Melbourne', case=False, na=False)]\n",
        "top_5_melbourne = melbourne_users.nlargest(5, 'followers')['login'].tolist()\n",
        "print(\"Top 5 users in Melbourne with the highest followers:\", ', '.join(top_5_melbourne))"
      ],
      "metadata": {
        "id": "n7PlfpfNT5DY"
      },
      "execution_count": null,
      "outputs": []
    },
    {
      "cell_type": "code",
      "source": [
        "earliest_users = melbourne_users.sort_values('created_at').head(5)['login'].tolist()\n",
        "print(\"5 earliest registered users in Melbourne:\", ', '.join(earliest_users))"
      ],
      "metadata": {
        "id": "0m1vAehCT_Gv"
      },
      "execution_count": null,
      "outputs": []
    },
    {
      "cell_type": "code",
      "source": [
        "top_licenses = repos['license_name'].value_counts().head(3).index.tolist()\n",
        "print(\"3 most popular licenses:\", ', '.join(top_licenses))"
      ],
      "metadata": {
        "id": "3dsLKE3oUBbK"
      },
      "execution_count": null,
      "outputs": []
    },
    {
      "cell_type": "code",
      "source": [
        "most_common_company = users['company'].mode()[0]\n",
        "print(\"Most common company:\", most_common_company)"
      ],
      "metadata": {
        "id": "zJ8RsYzsUBXZ"
      },
      "execution_count": null,
      "outputs": []
    },
    {
      "cell_type": "code",
      "source": [
        "most_popular_language = repos['language'].mode()[0]\n",
        "print(\"Most popular programming language:\", most_popular_language)"
      ],
      "metadata": {
        "id": "DdZe0ZxtUBUq"
      },
      "execution_count": null,
      "outputs": []
    },
    {
      "cell_type": "code",
      "source": [
        "users_after_2020 = users[pd.to_datetime(users['created_at']).dt.year > 2020]\n",
        "second_popular_language = repos[repos['language'].isin(users_after_2020['login'])]['language'].value_counts().index[1]\n",
        "print(\"Second most popular language:\", second_popular_language)"
      ],
      "metadata": {
        "id": "G_Zpl7JBUBRw"
      },
      "execution_count": null,
      "outputs": []
    },
    {
      "cell_type": "code",
      "source": [
        "avg_stars_language = repos.groupby('language')['stargazers_count'].mean().idxmax()\n",
        "print(\"Language with highest average stars:\", avg_stars_language)"
      ],
      "metadata": {
        "id": "AJwNIgkuUBPJ"
      },
      "execution_count": null,
      "outputs": []
    },
    {
      "cell_type": "code",
      "source": [
        "users['follower_score'] = users['followers'] + 2 * users['following']\n",
        "top_5_follow_score = users.nlargest(5, 'follower_score')['login'].tolist()\n",
        "print(\"Top 5 users based on follower score:\", ', '.join(top_5_follow_score))"
      ],
      "metadata": {
        "id": "zuqmhbvPUBMD"
      },
      "execution_count": null,
      "outputs": []
    },
    {
      "cell_type": "code",
      "source": [
        "correlation_follow_repos = users[['followers', 'public_repos']].corr().iloc[0,1]\n",
        "print(\"Correlation between followers and public repos:\", round(correlation_follow_repos, 3))"
      ],
      "metadata": {
        "id": "ZktD_eNGUBJT"
      },
      "execution_count": null,
      "outputs": []
    },
    {
      "cell_type": "code",
      "source": [
        "slope, intercept, _, _, _ = linregress(users['public_repos'], users['followers'])\n",
        "print(\"Regression slope of followers on repos:\", round(slope, 3))"
      ],
      "metadata": {
        "id": "EB6OtKmHUNi8"
      },
      "execution_count": null,
      "outputs": []
    },
    {
      "cell_type": "code",
      "source": [
        "project_wiki_corr = repos[['has_projects', 'has_wiki']].corr().iloc[0, 1]\n",
        "print(\"Correlation between projects and wiki enabled:\", round(project_wiki_corr, 3))"
      ],
      "metadata": {
        "id": "5cogOV4QUNe3"
      },
      "execution_count": null,
      "outputs": []
    },
    {
      "cell_type": "code",
      "source": [
        "avg_following_hireable = users[users['hireable'] == True]['following'].mean()\n",
        "avg_following_non_hireable = users[users['hireable'] == False]['following'].mean()\n",
        "difference = round(avg_following_hireable - avg_following_non_hireable, 3)\n",
        "print(\"Difference in average following (hireable - non-hireable):\", difference)"
      ],
      "metadata": {
        "id": "lcyH1_cdUNcf"
      },
      "execution_count": null,
      "outputs": []
    },
    {
      "cell_type": "code",
      "source": [
        "users['bio_word_count'] = users['bio'].fillna('').apply(lambda x: len(x.split()))\n",
        "slope, _, _, _, _ = linregress(users['bio_word_count'], users['followers'])\n",
        "print(\"Regression slope of followers on bio word count:\", round(slope, 3))"
      ],
      "metadata": {
        "id": "bNFskIhzUNZr"
      },
      "execution_count": null,
      "outputs": []
    },
    {
      "cell_type": "code",
      "source": [
        "repos['created_at'] = pd.to_datetime(repos['created_at'])\n",
        "repos['is_weekend'] = repos['created_at'].dt.weekday >= 5\n",
        "weekend_repos_count = repos[repos['is_weekend']].groupby('owner_login').size()\n",
        "top_5_weekend_users = weekend_repos_count.nlargest(5).index.tolist()\n",
        "print(\"Top 5 users with most repos on weekends:\", ', '.join(top_5_weekend_users))"
      ],
      "metadata": {
        "id": "iUPUyI2GUNW2"
      },
      "execution_count": null,
      "outputs": []
    },
    {
      "cell_type": "code",
      "source": [
        "users['last_name'] = users['name'].str.split().str[-1]\n",
        "common_surname = users['last_name'].mode()[0]\n",
        "common_surname_count = users['last_name'].value_counts().loc[common_surname]\n",
        "print(\"Number of users with the most common surname:\", common_surname_count)"
      ],
      "metadata": {
        "id": "wZ5A8N0VUNUO"
      },
      "execution_count": null,
      "outputs": []
    }
  ]
}